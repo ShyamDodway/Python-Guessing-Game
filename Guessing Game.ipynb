{
 "cells": [
  {
   "cell_type": "code",
   "execution_count": 2,
   "id": "b87c6230",
   "metadata": {},
   "outputs": [
    {
     "name": "stdout",
     "output_type": "stream",
     "text": [
      "Guess any number23\n",
      "Guess Higher\n",
      "Guess again50\n",
      "Gues Lower\n",
      "Guess again40\n",
      "Gues Lower\n",
      "Guess again30\n",
      "Gues Lower\n",
      "Guess again20\n",
      "Guess Higher\n",
      "Guess again22\n",
      "Guess Higher\n",
      "Guess again21\n",
      "Guess Higher\n",
      "Guess again25\n",
      "Guess Higher\n",
      "Guess again27\n",
      "Wow! its correct, congrats\n",
      "You took 9 To complete this game\n"
     ]
    }
   ],
   "source": [
    "#The code\n",
    "import random\n",
    "\n",
    "jackpot = random.randint(1,100)\n",
    "\n",
    "guess= int(input(\"Guess any number\"))\n",
    "counter = 1\n",
    "while guess != jackpot:\n",
    "    if guess < jackpot:\n",
    "        print(\"Guess Higher\")\n",
    "    else:\n",
    "        print(\"Gues Lower\")\n",
    "    guess = int(input(\"Guess again\"))  \n",
    "    counter +=1\n",
    "print(\"Wow! its correct, congrats\")\n",
    "print(\"You took\",counter , \" steps To complete this game\" )"
   ]
  },
  {
   "cell_type": "code",
   "execution_count": null,
   "id": "1d82d8d3",
   "metadata": {},
   "outputs": [],
   "source": []
  }
 ],
 "metadata": {
  "kernelspec": {
   "display_name": "Python 3 (ipykernel)",
   "language": "python",
   "name": "python3"
  },
  "language_info": {
   "codemirror_mode": {
    "name": "ipython",
    "version": 3
   },
   "file_extension": ".py",
   "mimetype": "text/x-python",
   "name": "python",
   "nbconvert_exporter": "python",
   "pygments_lexer": "ipython3",
   "version": "3.9.13"
  }
 },
 "nbformat": 4,
 "nbformat_minor": 5
}
